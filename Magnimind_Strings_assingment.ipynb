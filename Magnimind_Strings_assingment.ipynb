{
 "cells": [
  {
   "cell_type": "code",
   "execution_count": 48,
   "id": "cc490edd",
   "metadata": {},
   "outputs": [
    {
     "data": {
      "text/plain": [
       "'Sandra lujan'"
      ]
     },
     "execution_count": 48,
     "metadata": {},
     "output_type": "execute_result"
    }
   ],
   "source": [
    "name = \"sandra lujan\"\n",
    "name = name.capitalize()\n",
    "name"
   ]
  },
  {
   "cell_type": "code",
   "execution_count": 60,
   "id": "4736a4ec",
   "metadata": {},
   "outputs": [
    {
     "data": {
      "text/plain": [
       "31"
      ]
     },
     "execution_count": 60,
     "metadata": {},
     "output_type": "execute_result"
    }
   ],
   "source": [
    "poem = 'Deep into that darkness peering'\n",
    "len('Deep into that darkness peering')\n"
   ]
  },
  {
   "cell_type": "code",
   "execution_count": 61,
   "id": "82bd3d31",
   "metadata": {},
   "outputs": [
    {
     "data": {
      "text/plain": [
       "0"
      ]
     },
     "execution_count": 61,
     "metadata": {},
     "output_type": "execute_result"
    }
   ],
   "source": [
    "poem.index('Deep')"
   ]
  },
  {
   "cell_type": "code",
   "execution_count": 64,
   "id": "e8989fee",
   "metadata": {},
   "outputs": [
    {
     "data": {
      "text/plain": [
       "24"
      ]
     },
     "execution_count": 64,
     "metadata": {},
     "output_type": "execute_result"
    }
   ],
   "source": [
    "poem.index('peering')"
   ]
  },
  {
   "cell_type": "code",
   "execution_count": 65,
   "id": "8f9e1610",
   "metadata": {},
   "outputs": [
    {
     "data": {
      "text/plain": [
       "'Deep into that darkness '"
      ]
     },
     "execution_count": 65,
     "metadata": {},
     "output_type": "execute_result"
    }
   ],
   "source": [
    "poem[0:24]"
   ]
  },
  {
   "cell_type": "code",
   "execution_count": null,
   "id": "e7779c91",
   "metadata": {},
   "outputs": [],
   "source": []
  }
 ],
 "metadata": {
  "kernelspec": {
   "display_name": "Python 3 (ipykernel)",
   "language": "python",
   "name": "python3"
  },
  "language_info": {
   "codemirror_mode": {
    "name": "ipython",
    "version": 3
   },
   "file_extension": ".py",
   "mimetype": "text/x-python",
   "name": "python",
   "nbconvert_exporter": "python",
   "pygments_lexer": "ipython3",
   "version": "3.9.12"
  }
 },
 "nbformat": 4,
 "nbformat_minor": 5
}
